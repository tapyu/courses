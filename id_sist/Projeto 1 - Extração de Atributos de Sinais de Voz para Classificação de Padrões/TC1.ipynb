{
 "cells": [
  {
   "cell_type": "markdown",
   "metadata": {},
   "source": [
    "## Some technical notes about audio parameters\n",
    "\n",
    "- `sample width`: Number of bytes used to store a sample\n",
    "- `channels`: Number of channels, 1 for mono, 2 for stereo\n",
    "- `frame rate`: Sampling rate\n",
    "- The sampled signal is obtained in the Linear Pulse Code Modulation (LPCM)."
   ]
  },
  {
   "cell_type": "code",
   "execution_count": 14,
   "metadata": {},
   "outputs": [
    {
     "ename": "KeyboardInterrupt",
     "evalue": "",
     "output_type": "error",
     "traceback": [
      "\u001b[0;31m---------------------------------------------------------------------------\u001b[0m",
      "\u001b[0;31mKeyboardInterrupt\u001b[0m                         Traceback (most recent call last)",
      "\u001b[1;32m/home/tapyu/git/UFC_courses/identificação_de_sistemas/Projeto 1 - Extração de Atributos de Sinais de Voz para Classificação de Padrões/TC1.ipynb Cell 2'\u001b[0m in \u001b[0;36m<module>\u001b[0;34m\u001b[0m\n\u001b[1;32m     <a href='vscode-notebook-cell:/home/tapyu/git/UFC_courses/identifica%C3%A7%C3%A3o_de_sistemas/Projeto%201%20-%20Extra%C3%A7%C3%A3o%20de%20Atributos%20de%20Sinais%20de%20Voz%20para%20Classifica%C3%A7%C3%A3o%20de%20Padr%C3%B5es/TC1.ipynb#ch0000001?line=26'>27</a>\u001b[0m         stream\u001b[39m.\u001b[39mwrite(new_binary_data)\n\u001b[1;32m     <a href='vscode-notebook-cell:/home/tapyu/git/UFC_courses/identifica%C3%A7%C3%A3o_de_sistemas/Projeto%201%20-%20Extra%C3%A7%C3%A3o%20de%20Atributos%20de%20Sinais%20de%20Voz%20para%20Classifica%C3%A7%C3%A3o%20de%20Padr%C3%B5es/TC1.ipynb#ch0000001?line=28'>29</a>\u001b[0m         \u001b[39m#stop stream  \u001b[39;00m\n\u001b[0;32m---> <a href='vscode-notebook-cell:/home/tapyu/git/UFC_courses/identifica%C3%A7%C3%A3o_de_sistemas/Projeto%201%20-%20Extra%C3%A7%C3%A3o%20de%20Atributos%20de%20Sinais%20de%20Voz%20para%20Classifica%C3%A7%C3%A3o%20de%20Padr%C3%B5es/TC1.ipynb#ch0000001?line=29'>30</a>\u001b[0m         stream\u001b[39m.\u001b[39mstop_stream()  \n\u001b[1;32m     <a href='vscode-notebook-cell:/home/tapyu/git/UFC_courses/identifica%C3%A7%C3%A3o_de_sistemas/Projeto%201%20-%20Extra%C3%A7%C3%A3o%20de%20Atributos%20de%20Sinais%20de%20Voz%20para%20Classifica%C3%A7%C3%A3o%20de%20Padr%C3%B5es/TC1.ipynb#ch0000001?line=30'>31</a>\u001b[0m         stream\u001b[39m.\u001b[39mclose()\n\u001b[1;32m     <a href='vscode-notebook-cell:/home/tapyu/git/UFC_courses/identifica%C3%A7%C3%A3o_de_sistemas/Projeto%201%20-%20Extra%C3%A7%C3%A3o%20de%20Atributos%20de%20Sinais%20de%20Voz%20para%20Classifica%C3%A7%C3%A3o%20de%20Padr%C3%B5es/TC1.ipynb#ch0000001?line=32'>33</a>\u001b[0m \u001b[39m#close PyAudio  \u001b[39;00m\n",
      "\u001b[1;32m/home/tapyu/git/UFC_courses/identificação_de_sistemas/Projeto 1 - Extração de Atributos de Sinais de Voz para Classificação de Padrões/TC1.ipynb Cell 2'\u001b[0m in \u001b[0;36m<module>\u001b[0;34m\u001b[0m\n\u001b[1;32m     <a href='vscode-notebook-cell:/home/tapyu/git/UFC_courses/identifica%C3%A7%C3%A3o_de_sistemas/Projeto%201%20-%20Extra%C3%A7%C3%A3o%20de%20Atributos%20de%20Sinais%20de%20Voz%20para%20Classifica%C3%A7%C3%A3o%20de%20Padr%C3%B5es/TC1.ipynb#ch0000001?line=26'>27</a>\u001b[0m         stream\u001b[39m.\u001b[39mwrite(new_binary_data)\n\u001b[1;32m     <a href='vscode-notebook-cell:/home/tapyu/git/UFC_courses/identifica%C3%A7%C3%A3o_de_sistemas/Projeto%201%20-%20Extra%C3%A7%C3%A3o%20de%20Atributos%20de%20Sinais%20de%20Voz%20para%20Classifica%C3%A7%C3%A3o%20de%20Padr%C3%B5es/TC1.ipynb#ch0000001?line=28'>29</a>\u001b[0m         \u001b[39m#stop stream  \u001b[39;00m\n\u001b[0;32m---> <a href='vscode-notebook-cell:/home/tapyu/git/UFC_courses/identifica%C3%A7%C3%A3o_de_sistemas/Projeto%201%20-%20Extra%C3%A7%C3%A3o%20de%20Atributos%20de%20Sinais%20de%20Voz%20para%20Classifica%C3%A7%C3%A3o%20de%20Padr%C3%B5es/TC1.ipynb#ch0000001?line=29'>30</a>\u001b[0m         stream\u001b[39m.\u001b[39mstop_stream()  \n\u001b[1;32m     <a href='vscode-notebook-cell:/home/tapyu/git/UFC_courses/identifica%C3%A7%C3%A3o_de_sistemas/Projeto%201%20-%20Extra%C3%A7%C3%A3o%20de%20Atributos%20de%20Sinais%20de%20Voz%20para%20Classifica%C3%A7%C3%A3o%20de%20Padr%C3%B5es/TC1.ipynb#ch0000001?line=30'>31</a>\u001b[0m         stream\u001b[39m.\u001b[39mclose()\n\u001b[1;32m     <a href='vscode-notebook-cell:/home/tapyu/git/UFC_courses/identifica%C3%A7%C3%A3o_de_sistemas/Projeto%201%20-%20Extra%C3%A7%C3%A3o%20de%20Atributos%20de%20Sinais%20de%20Voz%20para%20Classifica%C3%A7%C3%A3o%20de%20Padr%C3%B5es/TC1.ipynb#ch0000001?line=32'>33</a>\u001b[0m \u001b[39m#close PyAudio  \u001b[39;00m\n",
      "File \u001b[0;32m_pydevd_bundle/pydevd_cython.pyx:1363\u001b[0m, in \u001b[0;36m_pydevd_bundle.pydevd_cython.SafeCallWrapper.__call__\u001b[0;34m()\u001b[0m\n",
      "File \u001b[0;32m_pydevd_bundle/pydevd_cython.pyx:662\u001b[0m, in \u001b[0;36m_pydevd_bundle.pydevd_cython.PyDBFrame.trace_dispatch\u001b[0;34m()\u001b[0m\n",
      "File \u001b[0;32m_pydevd_bundle/pydevd_cython.pyx:1288\u001b[0m, in \u001b[0;36m_pydevd_bundle.pydevd_cython.PyDBFrame.trace_dispatch\u001b[0;34m()\u001b[0m\n",
      "File \u001b[0;32m_pydevd_bundle/pydevd_cython.pyx:1250\u001b[0m, in \u001b[0;36m_pydevd_bundle.pydevd_cython.PyDBFrame.trace_dispatch\u001b[0;34m()\u001b[0m\n",
      "File \u001b[0;32m_pydevd_bundle/pydevd_cython.pyx:297\u001b[0m, in \u001b[0;36m_pydevd_bundle.pydevd_cython.PyDBFrame.do_wait_suspend\u001b[0;34m()\u001b[0m\n",
      "File \u001b[0;32m~/.cache/pypoetry/virtualenvs/id-sist-sFYUFp5A-py3.8/lib/python3.8/site-packages/debugpy/_vendored/pydevd/pydevd.py:1976\u001b[0m, in \u001b[0;36mPyDB.do_wait_suspend\u001b[0;34m(self, thread, frame, event, arg, exception_type)\u001b[0m\n\u001b[1;32m   <a href='file:///~/.cache/pypoetry/virtualenvs/id-sist-sFYUFp5A-py3.8/lib/python3.8/site-packages/debugpy/_vendored/pydevd/pydevd.py?line=1972'>1973</a>\u001b[0m             from_this_thread\u001b[39m.\u001b[39mappend(frame_custom_thread_id)\n\u001b[1;32m   <a href='file:///~/.cache/pypoetry/virtualenvs/id-sist-sFYUFp5A-py3.8/lib/python3.8/site-packages/debugpy/_vendored/pydevd/pydevd.py?line=1974'>1975</a>\u001b[0m     \u001b[39mwith\u001b[39;00m \u001b[39mself\u001b[39m\u001b[39m.\u001b[39m_threads_suspended_single_notification\u001b[39m.\u001b[39mnotify_thread_suspended(thread_id, stop_reason):\n\u001b[0;32m-> <a href='file:///~/.cache/pypoetry/virtualenvs/id-sist-sFYUFp5A-py3.8/lib/python3.8/site-packages/debugpy/_vendored/pydevd/pydevd.py?line=1975'>1976</a>\u001b[0m         keep_suspended \u001b[39m=\u001b[39m \u001b[39mself\u001b[39;49m\u001b[39m.\u001b[39;49m_do_wait_suspend(thread, frame, event, arg, suspend_type, from_this_thread, frames_tracker)\n\u001b[1;32m   <a href='file:///~/.cache/pypoetry/virtualenvs/id-sist-sFYUFp5A-py3.8/lib/python3.8/site-packages/debugpy/_vendored/pydevd/pydevd.py?line=1977'>1978</a>\u001b[0m frames_list \u001b[39m=\u001b[39m \u001b[39mNone\u001b[39;00m\n\u001b[1;32m   <a href='file:///~/.cache/pypoetry/virtualenvs/id-sist-sFYUFp5A-py3.8/lib/python3.8/site-packages/debugpy/_vendored/pydevd/pydevd.py?line=1979'>1980</a>\u001b[0m \u001b[39mif\u001b[39;00m keep_suspended:\n\u001b[1;32m   <a href='file:///~/.cache/pypoetry/virtualenvs/id-sist-sFYUFp5A-py3.8/lib/python3.8/site-packages/debugpy/_vendored/pydevd/pydevd.py?line=1980'>1981</a>\u001b[0m     \u001b[39m# This means that we should pause again after a set next statement.\u001b[39;00m\n",
      "File \u001b[0;32m~/.cache/pypoetry/virtualenvs/id-sist-sFYUFp5A-py3.8/lib/python3.8/site-packages/debugpy/_vendored/pydevd/pydevd.py:2011\u001b[0m, in \u001b[0;36mPyDB._do_wait_suspend\u001b[0;34m(self, thread, frame, event, arg, suspend_type, from_this_thread, frames_tracker)\u001b[0m\n\u001b[1;32m   <a href='file:///~/.cache/pypoetry/virtualenvs/id-sist-sFYUFp5A-py3.8/lib/python3.8/site-packages/debugpy/_vendored/pydevd/pydevd.py?line=2007'>2008</a>\u001b[0m         \u001b[39mself\u001b[39m\u001b[39m.\u001b[39m_call_mpl_hook()\n\u001b[1;32m   <a href='file:///~/.cache/pypoetry/virtualenvs/id-sist-sFYUFp5A-py3.8/lib/python3.8/site-packages/debugpy/_vendored/pydevd/pydevd.py?line=2009'>2010</a>\u001b[0m     \u001b[39mself\u001b[39m\u001b[39m.\u001b[39mprocess_internal_commands()\n\u001b[0;32m-> <a href='file:///~/.cache/pypoetry/virtualenvs/id-sist-sFYUFp5A-py3.8/lib/python3.8/site-packages/debugpy/_vendored/pydevd/pydevd.py?line=2010'>2011</a>\u001b[0m     time\u001b[39m.\u001b[39;49msleep(\u001b[39m0.01\u001b[39;49m)\n\u001b[1;32m   <a href='file:///~/.cache/pypoetry/virtualenvs/id-sist-sFYUFp5A-py3.8/lib/python3.8/site-packages/debugpy/_vendored/pydevd/pydevd.py?line=2012'>2013</a>\u001b[0m \u001b[39mself\u001b[39m\u001b[39m.\u001b[39mcancel_async_evaluation(get_current_thread_id(thread), \u001b[39mstr\u001b[39m(\u001b[39mid\u001b[39m(frame)))\n\u001b[1;32m   <a href='file:///~/.cache/pypoetry/virtualenvs/id-sist-sFYUFp5A-py3.8/lib/python3.8/site-packages/debugpy/_vendored/pydevd/pydevd.py?line=2014'>2015</a>\u001b[0m \u001b[39m# process any stepping instructions\u001b[39;00m\n",
      "\u001b[0;31mKeyboardInterrupt\u001b[0m: "
     ]
    }
   ],
   "source": [
    "import numpy as np\n",
    "from scipy.io import wavfile\n",
    "\n",
    "a_avancar, a_esquerda, a_direita, a_parar, a_recuar = (np.empty(10) for _ in range(5))\n",
    "\n",
    "for command in ('avancar', 'direita', 'esquerda', 'parar', 'recuar'):\n",
    "    for n in range(1,11):\n",
    "        Fs, s = wavfile.read(f'./Audio_files_TCC_Jefferson/comando_{command}_{n:0>2d}.wav')"
   ]
  }
 ],
 "metadata": {
  "interpreter": {
   "hash": "6d7aca15fd486567410f0b50ac6cefe479aeb320e6005d7aafae29a8f55f6329"
  },
  "kernelspec": {
   "display_name": "Python 3.8.10 ('identificação-de-sistemas-sFYUFp5A-py3.8')",
   "language": "python",
   "name": "python3"
  },
  "language_info": {
   "codemirror_mode": {
    "name": "ipython",
    "version": 3
   },
   "file_extension": ".py",
   "mimetype": "text/x-python",
   "name": "python",
   "nbconvert_exporter": "python",
   "pygments_lexer": "ipython3",
   "version": "3.8.10"
  },
  "orig_nbformat": 4
 },
 "nbformat": 4,
 "nbformat_minor": 2
}
