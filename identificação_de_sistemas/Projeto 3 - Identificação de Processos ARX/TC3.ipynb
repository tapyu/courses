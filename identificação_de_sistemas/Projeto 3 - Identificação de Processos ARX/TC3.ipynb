{
 "cells": [
  {
   "cell_type": "code",
   "execution_count": 69,
   "metadata": {},
   "outputs": [],
   "source": [
    "from numpy import array, zeros_like, concatenate, logspace, identity, sum, log as ln, empty\n",
    "from numpy.random import randint, seed\n",
    "from numpy.linalg import cond, inv\n",
    "from scipy.linalg import toeplitz\n",
    "\n",
    "N_u = 500\n",
    "seed(31)\n",
    "u = randint(0,2,size=N_u)\n",
    "\n",
    "y = zeros_like(u, dtype='float64')\n",
    "# ARX(n, m) = ARX(2,1) model\n",
    "# y = array([.4*y[n-1] - .6*y[n-2] + 2*u[n-1] for n in range(2, N_u)])\n",
    "for n in range(2, N_u):\n",
    "    y[n] = .4*y[n-1] - .6*y[n-2] + 2*u[n-1]\n",
    "\n",
    "def my_var(x):\n",
    "    N = len(x)\n",
    "    u_x = sum(x)/N\n",
    "    return sum((x-u_x)**2)/(N-1)"
   ]
  },
  {
   "cell_type": "markdown",
   "metadata": {},
   "source": [
    "# Question 1"
   ]
  },
  {
   "cell_type": "code",
   "execution_count": 71,
   "metadata": {},
   "outputs": [
    {
     "name": "stdout",
     "output_type": "stream",
     "text": [
      "Akaike’s Information criterion (AIC):\n",
      "\tAIC(1,1) = -1.57e+02\n",
      "\tAIC(2,1) = -1.74e+04\n",
      "\tAIC(2,2) = -1.72e+04\n",
      "\tThe best option for the AIC is {n, m}={2, 1}\n",
      "\n",
      "\n",
      "Bayesian Information criterion (BIC):\n",
      "\tBIC(1,1) = -1.50e+02\n",
      "\tBIC(2,1) = -1.73e+04\n",
      "\tBIC(2,2) = -1.72e+04\n",
      "\tThe best option for the BIC is {n, m}={2, 1}\n"
     ]
    }
   ],
   "source": [
    "# The first half of the generated signal\n",
    "N = N_u // 2\n",
    "AIC_p, BIC_p = empty(3), empty(3)\n",
    "all_n, all_m = array((1, 2, 2)), array((1, 1, 2))\n",
    "\n",
    "for i, (n, m) in enumerate(zip(all_n, all_m)):\n",
    "    q = max(n,m) + 1\n",
    "    # transformation matrix -> [N-q+1 x n+m] -> [N-max(n,m) x n+m]\n",
    "    # OBS: Due to Python has a zero-based indexing, y[k-1]-> y(k)\n",
    "    X = concatenate((toeplitz(y[q-2:N-1], y[q-n-1:q-1][::-1]), toeplitz(u[q-2:N-1], u[q-m-1:q-1][::-1])), axis=1)\n",
    "    # Tikhonov regularization\n",
    "    for lambda_ in logspace(0,10,base=2):\n",
    "        if cond(X.T@X + (lambda_-1)*identity(X.shape[1])) < 1e3:\n",
    "            # Ordinary Least-Square (OLS)\n",
    "            theta_hat = inv(X.T@X + (lambda_-1)*identity(n+m))@X.T@y[q-1:N]\n",
    "            break\n",
    "    # estimated signal\n",
    "    y_hat = X @ theta_hat\n",
    "    # residue\n",
    "    e = y[q-1:N] - y_hat\n",
    "    N_e = e.size\n",
    "    sigma2_e = my_var(e)\n",
    "    p = m+n\n",
    "    # Akaike’s Information criterion (AIC)\n",
    "    AIC_p[i] = N_e*ln(sigma2_e) + 2*p\n",
    "    # Bayesian Information criterion (BIC)\n",
    "    BIC_p[i] = N_e*ln(sigma2_e) + p*ln(N_e)\n",
    "\n",
    "print(\"Akaike’s Information criterion (AIC):\")\n",
    "for i, n, m in zip(range(AIC_p.size), all_n, all_m):\n",
    "    print(f'\\tAIC({n},{m}) = {AIC_p[i]:.2e}')\n",
    "print(f'\\tThe best option for the AIC is {{n, m}}={{{all_n[AIC_p == min(AIC_p)][0]}, {all_m[AIC_p == min(AIC_p)][0]}}}\\n\\n')\n",
    "\n",
    "print('Bayesian Information criterion (BIC):')\n",
    "for i, n, m in zip(range(AIC_p.size), (1, 2, 2), (1, 1, 2)):\n",
    "    print(f'\\tBIC({n},{m}) = {BIC_p[i]:.2e}')\n",
    "print(f'\\tThe best option for the BIC is {{n, m}}={{{all_n[BIC_p == min(BIC_p)][0]}, {all_m[BIC_p == min(BIC_p)][0]}}}')"
   ]
  },
  {
   "cell_type": "code",
   "execution_count": null,
   "metadata": {},
   "outputs": [],
   "source": []
  }
 ],
 "metadata": {
  "interpreter": {
   "hash": "3af6fe4ab0e0073d9ae2ffe593b85b4067b7d7d5224ab3505266878a7c843aa5"
  },
  "kernelspec": {
   "display_name": "Python 3.8.10 ('id-sist-sFYUFp5A-py3.8')",
   "language": "python",
   "name": "python3"
  },
  "language_info": {
   "codemirror_mode": {
    "name": "ipython",
    "version": 3
   },
   "file_extension": ".py",
   "mimetype": "text/x-python",
   "name": "python",
   "nbconvert_exporter": "python",
   "pygments_lexer": "ipython3",
   "version": "3.8.10"
  },
  "orig_nbformat": 4
 },
 "nbformat": 4,
 "nbformat_minor": 2
}
