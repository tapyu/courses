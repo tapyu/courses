{
 "cells": [
  {
   "cell_type": "markdown",
   "metadata": {},
   "source": [
    "## Some technical notes about audio parameters\n",
    "\n",
    "- The sampled signal is obtained in the Linear Pulse Code Modulation (LPCM).\n",
    "- The signal is stereo (`nchanells=2`), but it is only used the left-side signal.\n",
    "- It is utilized 16 bits (2 bytes) per sample to encode the audio. The native data type of this data is `int16`, which is capable of storing a [range from](https://www.mathworks.com/help/matlab/ref/audioread.html) `-32768` up to `+32767`.\n",
    "- The data type is converted to `float` because of the numeric precision and because the floating point in `Python` [is interpreted as](https://docs.python.org/3/library/stdtypes.html#numeric-types-int-float-complex) `double` in `C`, which is convenient.\n",
    "- The original sampling rate is $44.1\\;kHz$. But each recording is downsampled into two different signals, with a sampling rate of $F_s = 22.05\\;kHz$.\n",
    "- The audio dataset comprises five classes (the speeches \"avançar\", \"recuar\", \"parar\", \"direita\", and \"esquerda\"), each with 10 recordings, totalizing 50 files. With the downsampling, we have 20 recordings by class. Considering that the `.wav` file is stereo, that is, `nchannel=2`, the number of audio recordings by class is increased to 40. From each of these recordings, it is extracted a discrete-time signal, which is converted to a $N_s$-dimensional vector, being $N_s$ the number of samples of this signal.\n",
    "\n",
    "## Some notes about the LPC (linear predictive coding) and the Yule-Walker algorithms\n",
    "\n",
    "- The AR(p) model is implemented for `p=10`, `p=15`, and `p=20`.\n",
    "- A single recording is divided into 31 frames without overlapping. The number of samples per frames, $N_f$, and the number of samples between each frame, $N_{gap}$, are given by\n",
    "    $$ N_f = \\frac{T_{sig}T_{f_{min}} F_s}{T_{min}} $$\n",
    "    and\n",
    "    $$ N_{gap} = \\frac{T_{sig} F_s-31N_f}{30},$$\n",
    "    where $T_{sig}$ is the signal duration, $T_{min}$ is the minimum signal duration of the dataset, and $T_{f_{min}} \\triangleq 15\\;ms $ is the minimum frame duration. All these variables are defined in seconds.\n",
    "- The Yule-Walker equation is applied to each of the 31 frames produced from a single audio recording. The final vector is achieved by concatenating all the $31$ coefficients obtained by the Yule-Walker equation, it is given by\n",
    "$$\\mathbf{a}_{p} = \\begin{bmatrix}\n",
    "\\mathbf{a}_{p,1}^\\mathsf{T} & \\mathbf{a}_{p,2}^\\mathsf{T} & \\cdots & \\mathbf{a}_{p,31}^\\mathsf{T}\n",
    "\\end{bmatrix}^\\mathsf{T} \\in \\mathbb{R}^{31p},\n",
    "$$\n",
    "where $\\mathbf{a}_{p,i} \\in \\mathbb{R}^p$ is the coefficient vector obtained form the $i$-th frame. This procedure is repeated for each of the four signals (channel a and b, samples even and odd) from a single audio recording, for each audio recording.\n",
    "- For sake of clarity, it  is chosen the normalized (by its l2 norm) version of the autocorrelation function. It makes $r(\\tau)$ invariant to the signal energy of the frame.\n",
    "\n",
    "---\n",
    "\n",
    "> 1. Carregar os diversos arquivos de áudio e realizar a subamostragem dos sinais de cada canal a fim\n",
    "de gerar a base de dados de treino e teste.\n",
    "\n",
    "### Initializing"
   ]
  },
  {
   "cell_type": "code",
   "execution_count": 14,
   "metadata": {},
   "outputs": [],
   "source": [
    "%reset -f\n",
    "from numpy import matmul, inf, empty, concatenate, arange, inner, array, sin, pi\n",
    "from numpy.fft import fft\n",
    "from statsmodels.regression.linear_model import yule_walker\n",
    "from scipy.io import wavfile\n",
    "from scipy.linalg import toeplitz\n",
    "from math import floor\n",
    "from numpy.linalg import norm, cond, matrix_rank as rank, inv\n",
    "from warnings import warn\n",
    "from os import listdir\n",
    "from matplotlib import pyplot as plt\n",
    "\n",
    "# train/test set split\n",
    "n_train, n_test = 8, 2\n",
    "# AR(p) model order -> p = 10, 15, 20\n",
    "all_p = range(10,21,5)\n",
    "# all coefficients of the AR(p) model. For each command, we have a 8 set of coefficients\n",
    "all_a = {f'{command}_file{file_number}_p{p}_s{signal}': empty((0,2)) for p in all_p for command in ('avancar', 'esquerda', 'direita', 'parar', 'recuar') for file_number in range(1,11) for signal in ('0a', '0b', '1a', '1b')}\n",
    "\n",
    "def get_T_min(root_dir):\n",
    "    T_min = inf\n",
    "    for file_name in listdir(root_dir):\n",
    "        F_s, s_n = wavfile.read(root_dir+file_name)\n",
    "        # signal duration\n",
    "        T_sig = s_n[:,0].size * (1/F_s)\n",
    "        if T_sig < T_min:\n",
    "            T_min = T_sig\n",
    "    return T_min\n",
    "\n",
    "# minimum audio duration of the dataset\n",
    "T_min = get_T_min('./Audio_files_TCC_Jefferson/')\n",
    "# minimum frame duration, 15ms (user defined)\n",
    "T_f_min = 15e-3"
   ]
  },
  {
   "cell_type": "markdown",
   "metadata": {},
   "source": [
    "### LPC and Yule-Walker algorithm"
   ]
  },
  {
   "cell_type": "code",
   "execution_count": 7,
   "metadata": {},
   "outputs": [
    {
     "name": "stderr",
     "output_type": "stream",
     "text": [
      "/tmp/ipykernel_14454/2902221309.py:46: UserWarning: The autocorrelation matrix of the audio ./Audio_files_TCC_Jefferson/comando_avancar_06.wav is ill-conditioned! The results are suspect!\n",
      "  warn(f'The autocorrelation matrix of the audio {file_name} is ill-conditioned! The results are suspect!')\n",
      "/tmp/ipykernel_14454/2902221309.py:46: UserWarning: The autocorrelation matrix of the audio ./Audio_files_TCC_Jefferson/comando_parar_01.wav is ill-conditioned! The results are suspect!\n",
      "  warn(f'The autocorrelation matrix of the audio {file_name} is ill-conditioned! The results are suspect!')\n",
      "/tmp/ipykernel_14454/2902221309.py:46: UserWarning: The autocorrelation matrix of the audio ./Audio_files_TCC_Jefferson/comando_parar_03.wav is ill-conditioned! The results are suspect!\n",
      "  warn(f'The autocorrelation matrix of the audio {file_name} is ill-conditioned! The results are suspect!')\n",
      "/tmp/ipykernel_14454/2902221309.py:46: UserWarning: The autocorrelation matrix of the audio ./Audio_files_TCC_Jefferson/comando_parar_06.wav is ill-conditioned! The results are suspect!\n",
      "  warn(f'The autocorrelation matrix of the audio {file_name} is ill-conditioned! The results are suspect!')\n",
      "/tmp/ipykernel_14454/2902221309.py:46: UserWarning: The autocorrelation matrix of the audio ./Audio_files_TCC_Jefferson/comando_parar_07.wav is ill-conditioned! The results are suspect!\n",
      "  warn(f'The autocorrelation matrix of the audio {file_name} is ill-conditioned! The results are suspect!')\n",
      "/tmp/ipykernel_14454/2902221309.py:46: UserWarning: The autocorrelation matrix of the audio ./Audio_files_TCC_Jefferson/comando_recuar_01.wav is ill-conditioned! The results are suspect!\n",
      "  warn(f'The autocorrelation matrix of the audio {file_name} is ill-conditioned! The results are suspect!')\n",
      "/tmp/ipykernel_14454/2902221309.py:46: UserWarning: The autocorrelation matrix of the audio ./Audio_files_TCC_Jefferson/comando_direita_08.wav is ill-conditioned! The results are suspect!\n",
      "  warn(f'The autocorrelation matrix of the audio {file_name} is ill-conditioned! The results are suspect!')\n",
      "/tmp/ipykernel_14454/2902221309.py:46: UserWarning: The autocorrelation matrix of the audio ./Audio_files_TCC_Jefferson/comando_esquerda_06.wav is ill-conditioned! The results are suspect!\n",
      "  warn(f'The autocorrelation matrix of the audio {file_name} is ill-conditioned! The results are suspect!')\n",
      "/tmp/ipykernel_14454/2902221309.py:46: UserWarning: The autocorrelation matrix of the audio ./Audio_files_TCC_Jefferson/comando_esquerda_07.wav is ill-conditioned! The results are suspect!\n",
      "  warn(f'The autocorrelation matrix of the audio {file_name} is ill-conditioned! The results are suspect!')\n",
      "/tmp/ipykernel_14454/2902221309.py:46: UserWarning: The autocorrelation matrix of the audio ./Audio_files_TCC_Jefferson/comando_recuar_02.wav is ill-conditioned! The results are suspect!\n",
      "  warn(f'The autocorrelation matrix of the audio {file_name} is ill-conditioned! The results are suspect!')\n",
      "/tmp/ipykernel_14454/2902221309.py:46: UserWarning: The autocorrelation matrix of the audio ./Audio_files_TCC_Jefferson/comando_recuar_04.wav is ill-conditioned! The results are suspect!\n",
      "  warn(f'The autocorrelation matrix of the audio {file_name} is ill-conditioned! The results are suspect!')\n",
      "/tmp/ipykernel_14454/2902221309.py:46: UserWarning: The autocorrelation matrix of the audio ./Audio_files_TCC_Jefferson/comando_recuar_07.wav is ill-conditioned! The results are suspect!\n",
      "  warn(f'The autocorrelation matrix of the audio {file_name} is ill-conditioned! The results are suspect!')\n",
      "/tmp/ipykernel_14454/2902221309.py:46: UserWarning: The autocorrelation matrix of the audio ./Audio_files_TCC_Jefferson/comando_avancar_04.wav is ill-conditioned! The results are suspect!\n",
      "  warn(f'The autocorrelation matrix of the audio {file_name} is ill-conditioned! The results are suspect!')\n",
      "/tmp/ipykernel_14454/2902221309.py:46: UserWarning: The autocorrelation matrix of the audio ./Audio_files_TCC_Jefferson/comando_parar_04.wav is ill-conditioned! The results are suspect!\n",
      "  warn(f'The autocorrelation matrix of the audio {file_name} is ill-conditioned! The results are suspect!')\n",
      "/tmp/ipykernel_14454/2902221309.py:46: UserWarning: The autocorrelation matrix of the audio ./Audio_files_TCC_Jefferson/comando_parar_05.wav is ill-conditioned! The results are suspect!\n",
      "  warn(f'The autocorrelation matrix of the audio {file_name} is ill-conditioned! The results are suspect!')\n",
      "/tmp/ipykernel_14454/2902221309.py:46: UserWarning: The autocorrelation matrix of the audio ./Audio_files_TCC_Jefferson/comando_recuar_03.wav is ill-conditioned! The results are suspect!\n",
      "  warn(f'The autocorrelation matrix of the audio {file_name} is ill-conditioned! The results are suspect!')\n",
      "/tmp/ipykernel_14454/2902221309.py:46: UserWarning: The autocorrelation matrix of the audio ./Audio_files_TCC_Jefferson/comando_recuar_05.wav is ill-conditioned! The results are suspect!\n",
      "  warn(f'The autocorrelation matrix of the audio {file_name} is ill-conditioned! The results are suspect!')\n"
     ]
    }
   ],
   "source": [
    "# %reset_selective -f all_a\n",
    "for p in all_p:\n",
    "    for command in ('avancar', 'direita', 'esquerda', 'parar', 'recuar'):\n",
    "        # training set\n",
    "        for file_number in range(1,n_train+1):\n",
    "            file_name = f'./Audio_files_TCC_Jefferson/comando_{command}_{file_number:0>2d}.wav'\n",
    "            # input audio vector, s_n -> [s[0], s[1], ..., s[N_s-1]]\n",
    "            F_s, s_n = wavfile.read(file_name)\n",
    "            # Number of samples\n",
    "            N_s = s_n[:,0].size\n",
    "            # signal duration\n",
    "            T_sig = N_s/F_s\n",
    "            # convert from int16 to float type\n",
    "            s_n = s_n.astype(float)\n",
    "            # downsampling: generate s0_n (even samples) and s1_n (odd samples) from s_n\n",
    "            s0_n, s1_n = s_n[range(0,N_s,2),:], s_n[range(1,N_s,2),:]\n",
    "            N_s //= 2\n",
    "            F_s //= 2\n",
    "            # number of samples per frame\n",
    "            N_f = floor(T_sig*T_f_min*F_s/T_min)\n",
    "            # number of samples between each frame (gap)\n",
    "            N_gap = floor((N_s - 31*N_f)/30)\n",
    "            # get channel a and chanell b\n",
    "            s0a_n, s0b_n, s1a_n, s1b_n = s0_n[:,0], s0_n[:,1], s1_n[:,0], s1_n[:,1]\n",
    "\n",
    "            # for each of the 4 signals from a single recording: channel a and b, samples even and odd\n",
    "            for s, signal_id in zip((s0a_n, s0b_n, s1a_n, s1b_n), ('0a', '0b', '1a', '1b')):\n",
    "                # for each frame\n",
    "                for i, n in enumerate(range(0, N_s+1, N_f)):\n",
    "                    # ensure that it is get only 31 frames\n",
    "                    if i == 31: break\n",
    "                    # s_n0 -> [s[n0], s[n0+1], ..., s[n0+N_f-1]], being n0\\in\\mathbb{N}\n",
    "                    s_n0 = s[n+i*N_gap:n+i*N_gap+N_f]\n",
    "                    # compute the autocorrelation function (normalized version), r_k -> r[k] -> [r[0], r[1], ..., r[p]]\n",
    "                    r_k = empty(p+1)\n",
    "                    for k in range(p+1):\n",
    "                        r_k[k] = inner(s_n0[:N_f-k], s_n0[k:N_f])/norm(s_n0)\n",
    "                    # autocorrelation matrix\n",
    "                    # r_k[:p] -> [r[0], r[1], ..., r[p-1]]\n",
    "                    R = toeplitz(r_k[:p])\n",
    "                    # autocorrelation vector\n",
    "                    # r -> [r[1], r[2], ..., r[p]]\n",
    "                    r = r_k[1:]\n",
    "                    if rank(R) == R.shape[0]:\n",
    "                        if cond(R) > 100e3:\n",
    "                            pass\n",
    "                            # warn(f'The autocorrelation matrix of the audio {file_name} is ill-conditioned! The results are suspect!')\n",
    "                        # Yule-Walker equation\n",
    "                        a = matmul(inv(R), r)\n",
    "                        # built-in function for comparison purpose\n",
    "                        a_hat, _ = yule_walker(s_n0, order=p, method='mle')\n",
    "                        # difference between my awnser and the built-in function\n",
    "                        delta_a = a - a_hat\n",
    "                        # save a\n",
    "                        all_a[f'{command}_file{file_number}_p{p}_s{signal_id}'] = concatenate((all_a[f'{command}_file{file_number}_p{p}_s{signal_id}'], concatenate((a[:,None],delta_a[:,None]), axis=1)))\n",
    "                    else:\n",
    "                        pass\n",
    "                        # warn(f'The autocorrelation matrix of the audio {file_name} is rank-deficient, skip over to the next audio recording.')"
   ]
  },
  {
   "cell_type": "code",
   "execution_count": 19,
   "metadata": {},
   "outputs": [
    {
     "data": {
      "text/plain": [
       "[<matplotlib.lines.Line2D at 0x7fc5d966b370>]"
      ]
     },
     "execution_count": 19,
     "metadata": {},
     "output_type": "execute_result"
    },
    {
     "data": {
      "image/png": "[encoded data removed]",
      "text/plain": [
       "<Figure size 432x288 with 1 Axes>"
      ]
     },
     "metadata": {
      "needs_background": "light"
     },
     "output_type": "display_data"
    }
   ],
   "source": [
    "F0=440\n",
    "Fs=10000\n",
    "T=3\n",
    "\n",
    "x = array([sin(2*pi*F0*t) + 0.5*sin(2*pi*3*F0*t) for t in arange(0,T,1/Fs)])\n",
    "\n",
    "def my_periogram(x, Fs):\n",
    "    N = x.size\n",
    "    # Nyquist theorem\n",
    "    W = Fs/2\n",
    "    all_f = arange(0,W+Fs/N,Fs/N)\n",
    "\n",
    "    # two-sided periogram\n",
    "    p = 1/(N*Fs) * abs(fft(x))**2\n",
    "    # transform into one-sided\n",
    "    p = p[0:1+N//2]\n",
    "    p[1:-1] = 2*p[1:-1]\n",
    "    \n",
    "    return p, all_f\n",
    "\n",
    "X, f = my_periogram(x, Fs)\n",
    "\n",
    "plt.plot(f, X)"
   ]
  }
 ],
 "metadata": {
  "interpreter": {
   "hash": "6d7aca15fd486567410f0b50ac6cefe479aeb320e6005d7aafae29a8f55f6329"
  },
  "kernelspec": {
   "display_name": "Python 3.8.10 ('identificação-de-sistemas-sFYUFp5A-py3.8')",
   "language": "python",
   "name": "python3"
  },
  "language_info": {
   "codemirror_mode": {
    "name": "ipython",
    "version": 3
   },
   "file_extension": ".py",
   "mimetype": "text/x-python",
   "name": "python",
   "nbconvert_exporter": "python",
   "pygments_lexer": "ipython3",
   "version": "3.8.10"
  },
  "orig_nbformat": 4
 },
 "nbformat": 4,
 "nbformat_minor": 2
}
