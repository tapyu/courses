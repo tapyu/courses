{
 "cells": [
  {
   "cell_type": "markdown",
   "metadata": {},
   "source": [
    "## Some technical notes about audio parameters\n",
    "\n",
    "- The sampled signal is obtained in the Linear Pulse Code Modulation (LPCM).\n",
    "- The signal is stereo (`nchanells=2`), but it is only used the left-side signal.\n",
    "- It is utilized 16 bits (2 bytes) per sample to encode the audio. The native data type of this data is `int16`, which is capable of storing a [range from](https://www.mathworks.com/help/matlab/ref/audioread.html) `-32768` up to `+32767`.\n",
    "- The data type is converted to `float` because of the numeric precision and because the floating point in `Python` [is interpreted as](https://docs.python.org/3/library/stdtypes.html#numeric-types-int-float-complex) `double` in `C`, which is convenient.\n",
    "- The original raw data is normalized to l2 norm. \n",
    "\n",
    "---\n",
    "\n",
    "> 1. Carregar os diversos arquivos de áudio e realizar a subamostragem dos sinais de cada canal a fim\n",
    "de gerar a base de dados de treino e teste.\n",
    "\n",
    "Each command has 10 recordings. One chooses a split of 80% and 20% for the training and test set, respectively."
   ]
  },
  {
   "cell_type": "code",
   "execution_count": 1,
   "metadata": {},
   "outputs": [
    {
     "name": "stderr",
     "output_type": "stream",
     "text": [
      "/tmp/ipykernel_110400/811930476.py:34: UserWarning: The autocorrelation matrix of the audio ./Audio_files_TCC_Jefferson/comando_avancar_01.wav is ill-conditioned! The results are suspect!\n",
      "  warn(f'The autocorrelation matrix of the audio {file_name} is ill-conditioned! The results are suspect!')\n"
     ]
    }
   ],
   "source": [
    "from numpy import empty, roll, multiply, sum, matmul\n",
    "from scipy.io import wavfile\n",
    "from scipy.linalg import toeplitz\n",
    "from numpy.linalg import norm, cond, matrix_rank as rank, inv\n",
    "from warnings import warn\n",
    "\n",
    "n_train, n_test = 8, 2\n",
    "# order of the AR(p) model\n",
    "p = 10\n",
    "# all coefficients of the AR(p) model. For each command, we have a 8 set of coefficients\n",
    "all_a = {f'a_{command}': empty((n_train,p)) for command in ('avancar', 'esquerda', 'direita', 'parar', 'recuar')}\n",
    "\n",
    "for command in ('avancar', 'direita', 'esquerda', 'parar', 'recuar'):\n",
    "    # training set\n",
    "    for file_number in range(1,n_train+1):\n",
    "        file_name = f'./Audio_files_TCC_Jefferson/comando_{command}_{file_number:0>2d}.wav'\n",
    "        # input audio vector, s_n -> [s[0], s[1], ..., s[N-1]]\n",
    "        _, s_n = wavfile.read(file_name)\n",
    "        # get the left-side signal (as float type)\n",
    "        s_n = s_n[:,0].astype(float)\n",
    "        # normalized signal, l2 norm\n",
    "        s_n /= norm(s_n)\n",
    "        # compute the autocorrelation vector, r_k -> r[k] -> [r[0], r[1], ..., r[p-1]]\n",
    "        r_k = empty(p)\n",
    "        for k in range(p):\n",
    "            # s_n_minus_k -> s[n-k] -> [0, 0, ..., 0(k times), s[0], s[1], ..., s[N-k-1]]\n",
    "            s_n_minus_k = roll(s_n, k)\n",
    "            s_n_minus_k[0:k] = 0\n",
    "            r_k[k] = sum(multiply(s_n, s_n_minus_k))\n",
    "        # autocorrelation matrix\n",
    "        R = toeplitz(r_k)\n",
    "        if rank(R) == R.shape[0]:\n",
    "            if cond(R) > 1e3:\n",
    "                warn(f'The autocorrelation matrix of the audio {file_name} is ill-conditioned! The results are suspect!')\n",
    "            all_a[f'a_{command}'][file_number-1] = matmul(inv(R), r_k)\n",
    "        else:\n",
    "            warn(f'The autocorrelation matrix of the audio {file_name} is rank-deficient, skip over to the next audio recording.')"
   ]
  }
 ],
 "metadata": {
  "interpreter": {
   "hash": "6d7aca15fd486567410f0b50ac6cefe479aeb320e6005d7aafae29a8f55f6329"
  },
  "kernelspec": {
   "display_name": "Python 3.8.10 ('identificação-de-sistemas-sFYUFp5A-py3.8')",
   "language": "python",
   "name": "python3"
  },
  "language_info": {
   "codemirror_mode": {
    "name": "ipython",
    "version": 3
   },
   "file_extension": ".py",
   "mimetype": "text/x-python",
   "name": "python",
   "nbconvert_exporter": "python",
   "pygments_lexer": "ipython3",
   "version": "3.8.10"
  },
  "orig_nbformat": 4
 },
 "nbformat": 4,
 "nbformat_minor": 2
}
