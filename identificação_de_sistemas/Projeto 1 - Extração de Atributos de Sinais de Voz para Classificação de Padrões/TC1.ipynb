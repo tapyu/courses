{
 "cells": [
  {
   "cell_type": "markdown",
   "metadata": {},
   "source": [
    "## Some technical notes about audio parameters\n",
    "\n",
    "- The sampled signal is obtained in the Linear Pulse Code Modulation (LPCM).\n",
    "- The signal is stereo (`nchanells=2`), but it is only used the left-side signal.\n",
    "- It is utilized 16 bits (2 bytes) per sample to encode the audio. The native data type of this data is `int16`, which is capable of storing a [range from](https://www.mathworks.com/help/matlab/ref/audioread.html) `-32768` up to `+32767`.\n",
    "- The data type is converted to `float` because of the numeric precision and because the floating point in `Python` [is interpreted as](https://docs.python.org/3/library/stdtypes.html#numeric-types-int-float-complex) `double` in `C`, which is convenient.\n",
    "- The original raw data is normalized to l2 norm. \n",
    "\n",
    "---\n",
    "\n",
    "> 1. Carregar os diversos arquivos de áudio e realizar a subamostragem dos sinais de cada canal a fim\n",
    "de gerar a base de dados de treino e teste.\n",
    "\n",
    "Each command has 10 recordings. One chooses a split of 80% and 20% for the training and test set, respectively."
   ]
  },
  {
   "cell_type": "code",
   "execution_count": 1,
   "metadata": {},
   "outputs": [
    {
     "name": "stderr",
     "output_type": "stream",
     "text": [
      "/tmp/ipykernel_111218/3063237486.py:34: UserWarning: The autocorrelation matrix of the audio ./Audio_files_TCC_Jefferson/comando_avancar_01.wav is ill-conditioned! The results are suspect!\n",
      "  warn(f'The autocorrelation matrix of the audio {file_name} is ill-conditioned! The results are suspect!')\n"
     ]
    },
    {
     "ename": "KeyboardInterrupt",
     "evalue": "",
     "output_type": "error",
     "traceback": [
      "\u001b[0;31m---------------------------------------------------------------------------\u001b[0m",
      "\u001b[0;31mKeyboardInterrupt\u001b[0m                         Traceback (most recent call last)",
      "\u001b[1;32m/home/tapyu/git/UFC_courses/identificação_de_sistemas/Projeto 1 - Extração de Atributos de Sinais de Voz para Classificação de Padrões/TC1.ipynb Cell 2'\u001b[0m in \u001b[0;36m<module>\u001b[0;34m\u001b[0m\n\u001b[1;32m     <a href='vscode-notebook-cell:/home/tapyu/git/UFC_courses/identifica%C3%A7%C3%A3o_de_sistemas/Projeto%201%20-%20Extra%C3%A7%C3%A3o%20de%20Atributos%20de%20Sinais%20de%20Voz%20para%20Classifica%C3%A7%C3%A3o%20de%20Padr%C3%B5es/TC1.ipynb#ch0000001?line=10'>11</a>\u001b[0m all_a \u001b[39m=\u001b[39m {\u001b[39mf\u001b[39m\u001b[39m'\u001b[39m\u001b[39ma_\u001b[39m\u001b[39m{\u001b[39;00mcommand\u001b[39m}\u001b[39;00m\u001b[39m'\u001b[39m: empty((n_train,p)) \u001b[39mfor\u001b[39;00m command \u001b[39min\u001b[39;00m (\u001b[39m'\u001b[39m\u001b[39mavancar\u001b[39m\u001b[39m'\u001b[39m, \u001b[39m'\u001b[39m\u001b[39mesquerda\u001b[39m\u001b[39m'\u001b[39m, \u001b[39m'\u001b[39m\u001b[39mdireita\u001b[39m\u001b[39m'\u001b[39m, \u001b[39m'\u001b[39m\u001b[39mparar\u001b[39m\u001b[39m'\u001b[39m, \u001b[39m'\u001b[39m\u001b[39mrecuar\u001b[39m\u001b[39m'\u001b[39m)}\n\u001b[1;32m     <a href='vscode-notebook-cell:/home/tapyu/git/UFC_courses/identifica%C3%A7%C3%A3o_de_sistemas/Projeto%201%20-%20Extra%C3%A7%C3%A3o%20de%20Atributos%20de%20Sinais%20de%20Voz%20para%20Classifica%C3%A7%C3%A3o%20de%20Padr%C3%B5es/TC1.ipynb#ch0000001?line=12'>13</a>\u001b[0m \u001b[39mfor\u001b[39;00m command \u001b[39min\u001b[39;00m (\u001b[39m'\u001b[39m\u001b[39mavancar\u001b[39m\u001b[39m'\u001b[39m, \u001b[39m'\u001b[39m\u001b[39mdireita\u001b[39m\u001b[39m'\u001b[39m, \u001b[39m'\u001b[39m\u001b[39mesquerda\u001b[39m\u001b[39m'\u001b[39m, \u001b[39m'\u001b[39m\u001b[39mparar\u001b[39m\u001b[39m'\u001b[39m, \u001b[39m'\u001b[39m\u001b[39mrecuar\u001b[39m\u001b[39m'\u001b[39m):\n\u001b[1;32m     <a href='vscode-notebook-cell:/home/tapyu/git/UFC_courses/identifica%C3%A7%C3%A3o_de_sistemas/Projeto%201%20-%20Extra%C3%A7%C3%A3o%20de%20Atributos%20de%20Sinais%20de%20Voz%20para%20Classifica%C3%A7%C3%A3o%20de%20Padr%C3%B5es/TC1.ipynb#ch0000001?line=13'>14</a>\u001b[0m     \u001b[39m# training set\u001b[39;00m\n\u001b[0;32m---> <a href='vscode-notebook-cell:/home/tapyu/git/UFC_courses/identifica%C3%A7%C3%A3o_de_sistemas/Projeto%201%20-%20Extra%C3%A7%C3%A3o%20de%20Atributos%20de%20Sinais%20de%20Voz%20para%20Classifica%C3%A7%C3%A3o%20de%20Padr%C3%B5es/TC1.ipynb#ch0000001?line=14'>15</a>\u001b[0m     \u001b[39mfor\u001b[39;00m file_number \u001b[39min\u001b[39;00m \u001b[39mrange\u001b[39m(\u001b[39m1\u001b[39m,n_train\u001b[39m+\u001b[39m\u001b[39m1\u001b[39m):\n\u001b[1;32m     <a href='vscode-notebook-cell:/home/tapyu/git/UFC_courses/identifica%C3%A7%C3%A3o_de_sistemas/Projeto%201%20-%20Extra%C3%A7%C3%A3o%20de%20Atributos%20de%20Sinais%20de%20Voz%20para%20Classifica%C3%A7%C3%A3o%20de%20Padr%C3%B5es/TC1.ipynb#ch0000001?line=15'>16</a>\u001b[0m         file_name \u001b[39m=\u001b[39m \u001b[39mf\u001b[39m\u001b[39m'\u001b[39m\u001b[39m./Audio_files_TCC_Jefferson/comando_\u001b[39m\u001b[39m{\u001b[39;00mcommand\u001b[39m}\u001b[39;00m\u001b[39m_\u001b[39m\u001b[39m{\u001b[39;00mfile_number\u001b[39m:\u001b[39;00m\u001b[39m0>2d\u001b[39m\u001b[39m}\u001b[39;00m\u001b[39m.wav\u001b[39m\u001b[39m'\u001b[39m\n\u001b[1;32m     <a href='vscode-notebook-cell:/home/tapyu/git/UFC_courses/identifica%C3%A7%C3%A3o_de_sistemas/Projeto%201%20-%20Extra%C3%A7%C3%A3o%20de%20Atributos%20de%20Sinais%20de%20Voz%20para%20Classifica%C3%A7%C3%A3o%20de%20Padr%C3%B5es/TC1.ipynb#ch0000001?line=16'>17</a>\u001b[0m         \u001b[39m# input audio vector, s_n -> [s[0], s[1], ..., s[N-1]]\u001b[39;00m\n",
      "\u001b[1;32m/home/tapyu/git/UFC_courses/identificação_de_sistemas/Projeto 1 - Extração de Atributos de Sinais de Voz para Classificação de Padrões/TC1.ipynb Cell 2'\u001b[0m in \u001b[0;36m<module>\u001b[0;34m\u001b[0m\n\u001b[1;32m     <a href='vscode-notebook-cell:/home/tapyu/git/UFC_courses/identifica%C3%A7%C3%A3o_de_sistemas/Projeto%201%20-%20Extra%C3%A7%C3%A3o%20de%20Atributos%20de%20Sinais%20de%20Voz%20para%20Classifica%C3%A7%C3%A3o%20de%20Padr%C3%B5es/TC1.ipynb#ch0000001?line=10'>11</a>\u001b[0m all_a \u001b[39m=\u001b[39m {\u001b[39mf\u001b[39m\u001b[39m'\u001b[39m\u001b[39ma_\u001b[39m\u001b[39m{\u001b[39;00mcommand\u001b[39m}\u001b[39;00m\u001b[39m'\u001b[39m: empty((n_train,p)) \u001b[39mfor\u001b[39;00m command \u001b[39min\u001b[39;00m (\u001b[39m'\u001b[39m\u001b[39mavancar\u001b[39m\u001b[39m'\u001b[39m, \u001b[39m'\u001b[39m\u001b[39mesquerda\u001b[39m\u001b[39m'\u001b[39m, \u001b[39m'\u001b[39m\u001b[39mdireita\u001b[39m\u001b[39m'\u001b[39m, \u001b[39m'\u001b[39m\u001b[39mparar\u001b[39m\u001b[39m'\u001b[39m, \u001b[39m'\u001b[39m\u001b[39mrecuar\u001b[39m\u001b[39m'\u001b[39m)}\n\u001b[1;32m     <a href='vscode-notebook-cell:/home/tapyu/git/UFC_courses/identifica%C3%A7%C3%A3o_de_sistemas/Projeto%201%20-%20Extra%C3%A7%C3%A3o%20de%20Atributos%20de%20Sinais%20de%20Voz%20para%20Classifica%C3%A7%C3%A3o%20de%20Padr%C3%B5es/TC1.ipynb#ch0000001?line=12'>13</a>\u001b[0m \u001b[39mfor\u001b[39;00m command \u001b[39min\u001b[39;00m (\u001b[39m'\u001b[39m\u001b[39mavancar\u001b[39m\u001b[39m'\u001b[39m, \u001b[39m'\u001b[39m\u001b[39mdireita\u001b[39m\u001b[39m'\u001b[39m, \u001b[39m'\u001b[39m\u001b[39mesquerda\u001b[39m\u001b[39m'\u001b[39m, \u001b[39m'\u001b[39m\u001b[39mparar\u001b[39m\u001b[39m'\u001b[39m, \u001b[39m'\u001b[39m\u001b[39mrecuar\u001b[39m\u001b[39m'\u001b[39m):\n\u001b[1;32m     <a href='vscode-notebook-cell:/home/tapyu/git/UFC_courses/identifica%C3%A7%C3%A3o_de_sistemas/Projeto%201%20-%20Extra%C3%A7%C3%A3o%20de%20Atributos%20de%20Sinais%20de%20Voz%20para%20Classifica%C3%A7%C3%A3o%20de%20Padr%C3%B5es/TC1.ipynb#ch0000001?line=13'>14</a>\u001b[0m     \u001b[39m# training set\u001b[39;00m\n\u001b[0;32m---> <a href='vscode-notebook-cell:/home/tapyu/git/UFC_courses/identifica%C3%A7%C3%A3o_de_sistemas/Projeto%201%20-%20Extra%C3%A7%C3%A3o%20de%20Atributos%20de%20Sinais%20de%20Voz%20para%20Classifica%C3%A7%C3%A3o%20de%20Padr%C3%B5es/TC1.ipynb#ch0000001?line=14'>15</a>\u001b[0m     \u001b[39mfor\u001b[39;00m file_number \u001b[39min\u001b[39;00m \u001b[39mrange\u001b[39m(\u001b[39m1\u001b[39m,n_train\u001b[39m+\u001b[39m\u001b[39m1\u001b[39m):\n\u001b[1;32m     <a href='vscode-notebook-cell:/home/tapyu/git/UFC_courses/identifica%C3%A7%C3%A3o_de_sistemas/Projeto%201%20-%20Extra%C3%A7%C3%A3o%20de%20Atributos%20de%20Sinais%20de%20Voz%20para%20Classifica%C3%A7%C3%A3o%20de%20Padr%C3%B5es/TC1.ipynb#ch0000001?line=15'>16</a>\u001b[0m         file_name \u001b[39m=\u001b[39m \u001b[39mf\u001b[39m\u001b[39m'\u001b[39m\u001b[39m./Audio_files_TCC_Jefferson/comando_\u001b[39m\u001b[39m{\u001b[39;00mcommand\u001b[39m}\u001b[39;00m\u001b[39m_\u001b[39m\u001b[39m{\u001b[39;00mfile_number\u001b[39m:\u001b[39;00m\u001b[39m0>2d\u001b[39m\u001b[39m}\u001b[39;00m\u001b[39m.wav\u001b[39m\u001b[39m'\u001b[39m\n\u001b[1;32m     <a href='vscode-notebook-cell:/home/tapyu/git/UFC_courses/identifica%C3%A7%C3%A3o_de_sistemas/Projeto%201%20-%20Extra%C3%A7%C3%A3o%20de%20Atributos%20de%20Sinais%20de%20Voz%20para%20Classifica%C3%A7%C3%A3o%20de%20Padr%C3%B5es/TC1.ipynb#ch0000001?line=16'>17</a>\u001b[0m         \u001b[39m# input audio vector, s_n -> [s[0], s[1], ..., s[N-1]]\u001b[39;00m\n",
      "File \u001b[0;32m_pydevd_bundle/pydevd_cython.pyx:1363\u001b[0m, in \u001b[0;36m_pydevd_bundle.pydevd_cython.SafeCallWrapper.__call__\u001b[0;34m()\u001b[0m\n",
      "File \u001b[0;32m_pydevd_bundle/pydevd_cython.pyx:662\u001b[0m, in \u001b[0;36m_pydevd_bundle.pydevd_cython.PyDBFrame.trace_dispatch\u001b[0;34m()\u001b[0m\n",
      "File \u001b[0;32m_pydevd_bundle/pydevd_cython.pyx:1288\u001b[0m, in \u001b[0;36m_pydevd_bundle.pydevd_cython.PyDBFrame.trace_dispatch\u001b[0;34m()\u001b[0m\n",
      "File \u001b[0;32m_pydevd_bundle/pydevd_cython.pyx:1250\u001b[0m, in \u001b[0;36m_pydevd_bundle.pydevd_cython.PyDBFrame.trace_dispatch\u001b[0;34m()\u001b[0m\n",
      "File \u001b[0;32m_pydevd_bundle/pydevd_cython.pyx:297\u001b[0m, in \u001b[0;36m_pydevd_bundle.pydevd_cython.PyDBFrame.do_wait_suspend\u001b[0;34m()\u001b[0m\n",
      "File \u001b[0;32m~/.cache/pypoetry/virtualenvs/id-sist-sFYUFp5A-py3.8/lib/python3.8/site-packages/debugpy/_vendored/pydevd/pydevd.py:1976\u001b[0m, in \u001b[0;36mPyDB.do_wait_suspend\u001b[0;34m(self, thread, frame, event, arg, exception_type)\u001b[0m\n\u001b[1;32m   <a href='file:///~/.cache/pypoetry/virtualenvs/id-sist-sFYUFp5A-py3.8/lib/python3.8/site-packages/debugpy/_vendored/pydevd/pydevd.py?line=1972'>1973</a>\u001b[0m             from_this_thread\u001b[39m.\u001b[39mappend(frame_custom_thread_id)\n\u001b[1;32m   <a href='file:///~/.cache/pypoetry/virtualenvs/id-sist-sFYUFp5A-py3.8/lib/python3.8/site-packages/debugpy/_vendored/pydevd/pydevd.py?line=1974'>1975</a>\u001b[0m     \u001b[39mwith\u001b[39;00m \u001b[39mself\u001b[39m\u001b[39m.\u001b[39m_threads_suspended_single_notification\u001b[39m.\u001b[39mnotify_thread_suspended(thread_id, stop_reason):\n\u001b[0;32m-> <a href='file:///~/.cache/pypoetry/virtualenvs/id-sist-sFYUFp5A-py3.8/lib/python3.8/site-packages/debugpy/_vendored/pydevd/pydevd.py?line=1975'>1976</a>\u001b[0m         keep_suspended \u001b[39m=\u001b[39m \u001b[39mself\u001b[39;49m\u001b[39m.\u001b[39;49m_do_wait_suspend(thread, frame, event, arg, suspend_type, from_this_thread, frames_tracker)\n\u001b[1;32m   <a href='file:///~/.cache/pypoetry/virtualenvs/id-sist-sFYUFp5A-py3.8/lib/python3.8/site-packages/debugpy/_vendored/pydevd/pydevd.py?line=1977'>1978</a>\u001b[0m frames_list \u001b[39m=\u001b[39m \u001b[39mNone\u001b[39;00m\n\u001b[1;32m   <a href='file:///~/.cache/pypoetry/virtualenvs/id-sist-sFYUFp5A-py3.8/lib/python3.8/site-packages/debugpy/_vendored/pydevd/pydevd.py?line=1979'>1980</a>\u001b[0m \u001b[39mif\u001b[39;00m keep_suspended:\n\u001b[1;32m   <a href='file:///~/.cache/pypoetry/virtualenvs/id-sist-sFYUFp5A-py3.8/lib/python3.8/site-packages/debugpy/_vendored/pydevd/pydevd.py?line=1980'>1981</a>\u001b[0m     \u001b[39m# This means that we should pause again after a set next statement.\u001b[39;00m\n",
      "File \u001b[0;32m~/.cache/pypoetry/virtualenvs/id-sist-sFYUFp5A-py3.8/lib/python3.8/site-packages/debugpy/_vendored/pydevd/pydevd.py:2011\u001b[0m, in \u001b[0;36mPyDB._do_wait_suspend\u001b[0;34m(self, thread, frame, event, arg, suspend_type, from_this_thread, frames_tracker)\u001b[0m\n\u001b[1;32m   <a href='file:///~/.cache/pypoetry/virtualenvs/id-sist-sFYUFp5A-py3.8/lib/python3.8/site-packages/debugpy/_vendored/pydevd/pydevd.py?line=2007'>2008</a>\u001b[0m         \u001b[39mself\u001b[39m\u001b[39m.\u001b[39m_call_mpl_hook()\n\u001b[1;32m   <a href='file:///~/.cache/pypoetry/virtualenvs/id-sist-sFYUFp5A-py3.8/lib/python3.8/site-packages/debugpy/_vendored/pydevd/pydevd.py?line=2009'>2010</a>\u001b[0m     \u001b[39mself\u001b[39m\u001b[39m.\u001b[39mprocess_internal_commands()\n\u001b[0;32m-> <a href='file:///~/.cache/pypoetry/virtualenvs/id-sist-sFYUFp5A-py3.8/lib/python3.8/site-packages/debugpy/_vendored/pydevd/pydevd.py?line=2010'>2011</a>\u001b[0m     time\u001b[39m.\u001b[39;49msleep(\u001b[39m0.01\u001b[39;49m)\n\u001b[1;32m   <a href='file:///~/.cache/pypoetry/virtualenvs/id-sist-sFYUFp5A-py3.8/lib/python3.8/site-packages/debugpy/_vendored/pydevd/pydevd.py?line=2012'>2013</a>\u001b[0m \u001b[39mself\u001b[39m\u001b[39m.\u001b[39mcancel_async_evaluation(get_current_thread_id(thread), \u001b[39mstr\u001b[39m(\u001b[39mid\u001b[39m(frame)))\n\u001b[1;32m   <a href='file:///~/.cache/pypoetry/virtualenvs/id-sist-sFYUFp5A-py3.8/lib/python3.8/site-packages/debugpy/_vendored/pydevd/pydevd.py?line=2014'>2015</a>\u001b[0m \u001b[39m# process any stepping instructions\u001b[39;00m\n",
      "\u001b[0;31mKeyboardInterrupt\u001b[0m: "
     ]
    }
   ],
   "source": [
    "from numpy import empty, roll, multiply, sum, matmul\n",
    "from scipy.io import wavfile\n",
    "from scipy.linalg import toeplitz\n",
    "from numpy.linalg import norm, cond, matrix_rank as rank, inv\n",
    "from warnings import warn\n",
    "\n",
    "n_train, n_test = 8, 2\n",
    "# order of the AR(p) model\n",
    "p = 10\n",
    "# all coefficients of the AR(p) model. For each command, we have a 8 set of coefficients\n",
    "all_a = {f'a_{command}': empty((n_train,p)) for command in ('avancar', 'esquerda', 'direita', 'parar', 'recuar')}\n",
    "\n",
    "for command in ('avancar', 'direita', 'esquerda', 'parar', 'recuar'):\n",
    "    # training set\n",
    "    for file_number in range(1,n_train+1):\n",
    "        file_name = f'./Audio_files_TCC_Jefferson/comando_{command}_{file_number:0>2d}.wav'\n",
    "        # input audio vector, s_n -> [s[0], s[1], ..., s[N-1]]\n",
    "        _, s_n = wavfile.read(file_name)\n",
    "        # get the left-side signal (as float type)\n",
    "        s_n = s_n[:,0].astype(float)\n",
    "        # normalized signal, l2 norm\n",
    "        s_n /= norm(s_n)\n",
    "        # compute the autocorrelation vector, r_k -> r[k] -> [r[0], r[1], ..., r[p-1]]\n",
    "        r_k = empty(p)\n",
    "        for k in range(p):\n",
    "            # s_n_minus_k -> s[n-k] -> [0, 0, ..., 0(k times), s[0], s[1], ..., s[N-k-1]]\n",
    "            s_n_minus_k = roll(s_n, k)\n",
    "            s_n_minus_k[0:k] = 0\n",
    "            r_k[k] = sum(multiply(s_n, s_n_minus_k))\n",
    "        # autocorrelation matrix\n",
    "        R = toeplitz(r_k)\n",
    "        if rank(R) == R.shape[0]:\n",
    "            if cond(R) > 1e3:\n",
    "                warn(f'The autocorrelation matrix of the audio {file_name} is ill-conditioned! The results are suspect!')\n",
    "            all_a[f'a_{command}'][file_number-1] = matmul(inv(R), r_k)\n",
    "        else:\n",
    "            warn(f'The autocorrelation matrix of the audio {file_name} is rank-deficient, skip over to the next audio recording.')"
   ]
  }
 ],
 "metadata": {
  "interpreter": {
   "hash": "6d7aca15fd486567410f0b50ac6cefe479aeb320e6005d7aafae29a8f55f6329"
  },
  "kernelspec": {
   "display_name": "Python 3.8.10 ('identificação-de-sistemas-sFYUFp5A-py3.8')",
   "language": "python",
   "name": "python3"
  },
  "language_info": {
   "codemirror_mode": {
    "name": "ipython",
    "version": 3
   },
   "file_extension": ".py",
   "mimetype": "text/x-python",
   "name": "python",
   "nbconvert_exporter": "python",
   "pygments_lexer": "ipython3",
   "version": "3.8.10"
  },
  "orig_nbformat": 4
 },
 "nbformat": 4,
 "nbformat_minor": 2
}
