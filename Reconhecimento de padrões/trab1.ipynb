{
 "cells": [
  {
   "cell_type": "markdown",
   "metadata": {},
   "source": [
    "# TIP8311 - Reconhecimento de Padrões - 1o. Trabalho Computacional – 06/12/2021\n",
    "\n",
    "- Programa de Pós-Graduação em Engenharia de Teleinformática (PGPETI)\n",
    "- Universidade Federal do Ceará (UFC), Centro de Tecnologia, Campus do Pici\n",
    "- Responsável: Prof. Guilherme de Alencar Barreto\n",
    "- Aluno: Rubem Vasconcelos Pacelli; matrícula: 519024\n",
    "\n",
    "\n",
    "---\n",
    "**A brief comment about the data**: This dataset consists of a collection of 16 high-frequency antennas with a total transmitted power on the order of 6.4 kilowatts. Received signals were processed using an autocorrelation function whose arguments are the time of a pulse and the pulse number.  There were 17 pulse numbers for the Goose Bay system.  Instances in this database are described by two attributes per pulse number, corresponding to the complex values returned by the function resulting from the complex electromagnetic signal.\n",
    "\n",
    "**Key features**:\n",
    "- Number of Attributes: 34\n",
    "- Number of Instances: 351\n",
    "- The 35th attribute is either \"good\" or \"bad\" according to the definition summarized above.\n",
    "\n",
    "---\n",
    "### Question 1\n",
    "\n",
    "- Estimar a matriz de covariância GLOBAL (i.e. sem considerar os rótulos das classes) para o referido conjunto de dados usando o método descrito na `Eq. (100)`, usando as `Eqs. (101), (102) e (104)` para estimar a matriz de correlação.\n",
    "- Comparar com o resultado produzido pelo comando COV nativo do Octave/Matlab ou de outra linguagem de programação de sua preferência.\n",
    "\n",
    "#### Solution"
   ]
  },
  {
   "cell_type": "code",
   "execution_count": null,
   "metadata": {},
   "outputs": [],
   "source": [
    "\n",
    "\n"
   ]
  }
 ],
 "metadata": {
  "language_info": {
   "name": "python"
  },
  "orig_nbformat": 4
 },
 "nbformat": 4,
 "nbformat_minor": 2
}
