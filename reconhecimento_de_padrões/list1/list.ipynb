{
 "cells": [
  {
   "cell_type": "markdown",
   "metadata": {},
   "source": [
    "# Question 4\n",
    "\n",
    "## Nearest centroid classifier\n",
    "\n",
    "The nearest centroid classifier (NCC) is a classification model that compares a new instance with the estimated mean (centroid) vector of each class. The vector is then labeled with the class whose mean vector is closest.\n",
    "\n",
    "Consider:\n",
    "1. A set of classes, $\\Omega = \\left\\{1, 2, \\cdots, C\\right\\}$, where $C$ is the number of classes.\n",
    "1. A training set, given by $\\left\\{\\mathbf{x}_n, \\omega_n\\right\\}_{n=1}^N$, where $N$ is the size of the training set, and $\\omega_n \\in \\Omega$ is the label for the $n$-th instance of the training set.\n",
    "\n",
    "the nearest centroid classifier can be described as follows:\n",
    "\n",
    "1. Training phase\n",
    "    1. Compute the estimated mean vector, given by: $$\\hat{\\mathbf{m}}_i = \\frac{1}{\\mid N_i\\mid} \\sum_{\\forall n \\in N_i} \\mathbf{x}_n ,$$ where $N_i$ is a set of training samples belonging to the class $i$, and $\\mid N_i\\mid$ is its cardinality.\n",
    "1. Test phase\n",
    "    1. For a new instance, $\\mathbf{x}_n$, where $n>N$, compute the Euclidean distance between the new vector and each estimated mean vector, $d(\\mathbf{x}_n, \\hat{\\mathbf{m}}_i)$.\n",
    "    1. Decide by the class $i^\\star$, where $$d(\\mathbf{x}_n, \\hat{\\mathbf{m}}_{i^\\star}) < d(\\mathbf{x}_n, \\hat{\\mathbf{m}}_i), \\forall i\\neq i^\\star \\text{ and } i,i^\\star \\in \\Omega  $$"
   ]
  },
  {
   "cell_type": "code",
   "execution_count": null,
   "metadata": {},
   "outputs": [],
   "source": []
  }
 ],
 "metadata": {
  "interpreter": {
   "hash": "58ebac444dea18954d74fc2ca5db6d52db6181844543c8d1ee860a791e0308fb"
  },
  "kernelspec": {
   "display_name": "Python 3.8.10 64-bit ('.venv': poetry)",
   "language": "python",
   "name": "python3"
  },
  "language_info": {
   "name": "python",
   "version": "3.8.10"
  },
  "orig_nbformat": 4
 },
 "nbformat": 4,
 "nbformat_minor": 2
}
